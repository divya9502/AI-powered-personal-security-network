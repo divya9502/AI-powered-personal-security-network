{
  "nbformat": 4,
  "nbformat_minor": 0,
  "metadata": {
    "colab": {
      "provenance": []
    },
    "kernelspec": {
      "name": "python3",
      "display_name": "Python 3"
    },
    "language_info": {
      "name": "python"
    }
  },
  "cells": [
    {
      "cell_type": "code",
      "execution_count": 2,
      "metadata": {
        "colab": {
          "base_uri": "https://localhost:8080/"
        },
        "id": "4gQY3YJUTJYx",
        "outputId": "43303ace-6f46-4096-be02-0024aa0b46ef"
      },
      "outputs": [
        {
          "output_type": "stream",
          "name": "stderr",
          "text": [
            "<ipython-input-2-5cf3f7ec3ee9>:9: FutureWarning: DataFrame.fillna with 'method' is deprecated and will raise in a future version. Use obj.ffill() or obj.bfill() instead.\n",
            "  data.fillna(method='ffill', inplace=True)\n"
          ]
        }
      ],
      "source": [
        "import pandas as pd\n",
        "from sklearn.model_selection import train_test_split\n",
        "from sklearn.preprocessing import LabelEncoder, StandardScaler\n",
        "\n",
        "# Load the dataset\n",
        "data = pd.read_csv('/content/drive/MyDrive/personal_security_network/extended_synthetic_data_diverse.csv')\n",
        "\n",
        "# Handle missing values if any\n",
        "data.fillna(method='ffill', inplace=True)"
      ]
    },
    {
      "cell_type": "code",
      "source": [
        "data.head(5)"
      ],
      "metadata": {
        "colab": {
          "base_uri": "https://localhost:8080/",
          "height": 226
        },
        "id": "pUZoADUQg--j",
        "outputId": "987fbf16-9b2e-47fb-a532-cf7d290f1b67"
      },
      "execution_count": 3,
      "outputs": [
        {
          "output_type": "execute_result",
          "data": {
            "text/plain": [
              "  user_id   latitude  longitude crime_reported time_of_day area_type  \\\n",
              "0  user_1  26.725088  78.457332             no     morning     urban   \n",
              "1  user_2  10.207755  74.523902             no   afternoon     urban   \n",
              "2  user_3  29.288297  88.970762            yes   afternoon     urban   \n",
              "3  user_4  35.072736  93.704798             no     morning  suburban   \n",
              "4  user_5   8.767616  95.385280            yes     morning  suburban   \n",
              "\n",
              "  safety_label crime_type  user_age user_gender  distance_to_police  \\\n",
              "0         safe       none        51        male            4.717173   \n",
              "1       unsafe       none        28        male            1.163624   \n",
              "2         safe  vandalism        47        male           12.563149   \n",
              "3       unsafe       none        53        male           14.224204   \n",
              "4       unsafe  vandalism        44      female           10.959109   \n",
              "\n",
              "  weather_condition day_of_week special_event_nearby  historical_crime_rate  \\\n",
              "0             rainy   Wednesday                   no               0.340278   \n",
              "1             rainy   Wednesday                   no               0.602282   \n",
              "2             foggy      Monday                   no               0.281701   \n",
              "3             foggy      Friday                   no               0.201563   \n",
              "4             sunny      Monday                   no               0.631122   \n",
              "\n",
              "  cctv_coverage  \n",
              "0           yes  \n",
              "1           yes  \n",
              "2            no  \n",
              "3           yes  \n",
              "4           yes  "
            ],
            "text/html": [
              "\n",
              "  <div id=\"df-2ca083df-b432-414b-a6d9-c89684474c2b\" class=\"colab-df-container\">\n",
              "    <div>\n",
              "<style scoped>\n",
              "    .dataframe tbody tr th:only-of-type {\n",
              "        vertical-align: middle;\n",
              "    }\n",
              "\n",
              "    .dataframe tbody tr th {\n",
              "        vertical-align: top;\n",
              "    }\n",
              "\n",
              "    .dataframe thead th {\n",
              "        text-align: right;\n",
              "    }\n",
              "</style>\n",
              "<table border=\"1\" class=\"dataframe\">\n",
              "  <thead>\n",
              "    <tr style=\"text-align: right;\">\n",
              "      <th></th>\n",
              "      <th>user_id</th>\n",
              "      <th>latitude</th>\n",
              "      <th>longitude</th>\n",
              "      <th>crime_reported</th>\n",
              "      <th>time_of_day</th>\n",
              "      <th>area_type</th>\n",
              "      <th>safety_label</th>\n",
              "      <th>crime_type</th>\n",
              "      <th>user_age</th>\n",
              "      <th>user_gender</th>\n",
              "      <th>distance_to_police</th>\n",
              "      <th>weather_condition</th>\n",
              "      <th>day_of_week</th>\n",
              "      <th>special_event_nearby</th>\n",
              "      <th>historical_crime_rate</th>\n",
              "      <th>cctv_coverage</th>\n",
              "    </tr>\n",
              "  </thead>\n",
              "  <tbody>\n",
              "    <tr>\n",
              "      <th>0</th>\n",
              "      <td>user_1</td>\n",
              "      <td>26.725088</td>\n",
              "      <td>78.457332</td>\n",
              "      <td>no</td>\n",
              "      <td>morning</td>\n",
              "      <td>urban</td>\n",
              "      <td>safe</td>\n",
              "      <td>none</td>\n",
              "      <td>51</td>\n",
              "      <td>male</td>\n",
              "      <td>4.717173</td>\n",
              "      <td>rainy</td>\n",
              "      <td>Wednesday</td>\n",
              "      <td>no</td>\n",
              "      <td>0.340278</td>\n",
              "      <td>yes</td>\n",
              "    </tr>\n",
              "    <tr>\n",
              "      <th>1</th>\n",
              "      <td>user_2</td>\n",
              "      <td>10.207755</td>\n",
              "      <td>74.523902</td>\n",
              "      <td>no</td>\n",
              "      <td>afternoon</td>\n",
              "      <td>urban</td>\n",
              "      <td>unsafe</td>\n",
              "      <td>none</td>\n",
              "      <td>28</td>\n",
              "      <td>male</td>\n",
              "      <td>1.163624</td>\n",
              "      <td>rainy</td>\n",
              "      <td>Wednesday</td>\n",
              "      <td>no</td>\n",
              "      <td>0.602282</td>\n",
              "      <td>yes</td>\n",
              "    </tr>\n",
              "    <tr>\n",
              "      <th>2</th>\n",
              "      <td>user_3</td>\n",
              "      <td>29.288297</td>\n",
              "      <td>88.970762</td>\n",
              "      <td>yes</td>\n",
              "      <td>afternoon</td>\n",
              "      <td>urban</td>\n",
              "      <td>safe</td>\n",
              "      <td>vandalism</td>\n",
              "      <td>47</td>\n",
              "      <td>male</td>\n",
              "      <td>12.563149</td>\n",
              "      <td>foggy</td>\n",
              "      <td>Monday</td>\n",
              "      <td>no</td>\n",
              "      <td>0.281701</td>\n",
              "      <td>no</td>\n",
              "    </tr>\n",
              "    <tr>\n",
              "      <th>3</th>\n",
              "      <td>user_4</td>\n",
              "      <td>35.072736</td>\n",
              "      <td>93.704798</td>\n",
              "      <td>no</td>\n",
              "      <td>morning</td>\n",
              "      <td>suburban</td>\n",
              "      <td>unsafe</td>\n",
              "      <td>none</td>\n",
              "      <td>53</td>\n",
              "      <td>male</td>\n",
              "      <td>14.224204</td>\n",
              "      <td>foggy</td>\n",
              "      <td>Friday</td>\n",
              "      <td>no</td>\n",
              "      <td>0.201563</td>\n",
              "      <td>yes</td>\n",
              "    </tr>\n",
              "    <tr>\n",
              "      <th>4</th>\n",
              "      <td>user_5</td>\n",
              "      <td>8.767616</td>\n",
              "      <td>95.385280</td>\n",
              "      <td>yes</td>\n",
              "      <td>morning</td>\n",
              "      <td>suburban</td>\n",
              "      <td>unsafe</td>\n",
              "      <td>vandalism</td>\n",
              "      <td>44</td>\n",
              "      <td>female</td>\n",
              "      <td>10.959109</td>\n",
              "      <td>sunny</td>\n",
              "      <td>Monday</td>\n",
              "      <td>no</td>\n",
              "      <td>0.631122</td>\n",
              "      <td>yes</td>\n",
              "    </tr>\n",
              "  </tbody>\n",
              "</table>\n",
              "</div>\n",
              "    <div class=\"colab-df-buttons\">\n",
              "\n",
              "  <div class=\"colab-df-container\">\n",
              "    <button class=\"colab-df-convert\" onclick=\"convertToInteractive('df-2ca083df-b432-414b-a6d9-c89684474c2b')\"\n",
              "            title=\"Convert this dataframe to an interactive table.\"\n",
              "            style=\"display:none;\">\n",
              "\n",
              "  <svg xmlns=\"http://www.w3.org/2000/svg\" height=\"24px\" viewBox=\"0 -960 960 960\">\n",
              "    <path d=\"M120-120v-720h720v720H120Zm60-500h600v-160H180v160Zm220 220h160v-160H400v160Zm0 220h160v-160H400v160ZM180-400h160v-160H180v160Zm440 0h160v-160H620v160ZM180-180h160v-160H180v160Zm440 0h160v-160H620v160Z\"/>\n",
              "  </svg>\n",
              "    </button>\n",
              "\n",
              "  <style>\n",
              "    .colab-df-container {\n",
              "      display:flex;\n",
              "      gap: 12px;\n",
              "    }\n",
              "\n",
              "    .colab-df-convert {\n",
              "      background-color: #E8F0FE;\n",
              "      border: none;\n",
              "      border-radius: 50%;\n",
              "      cursor: pointer;\n",
              "      display: none;\n",
              "      fill: #1967D2;\n",
              "      height: 32px;\n",
              "      padding: 0 0 0 0;\n",
              "      width: 32px;\n",
              "    }\n",
              "\n",
              "    .colab-df-convert:hover {\n",
              "      background-color: #E2EBFA;\n",
              "      box-shadow: 0px 1px 2px rgba(60, 64, 67, 0.3), 0px 1px 3px 1px rgba(60, 64, 67, 0.15);\n",
              "      fill: #174EA6;\n",
              "    }\n",
              "\n",
              "    .colab-df-buttons div {\n",
              "      margin-bottom: 4px;\n",
              "    }\n",
              "\n",
              "    [theme=dark] .colab-df-convert {\n",
              "      background-color: #3B4455;\n",
              "      fill: #D2E3FC;\n",
              "    }\n",
              "\n",
              "    [theme=dark] .colab-df-convert:hover {\n",
              "      background-color: #434B5C;\n",
              "      box-shadow: 0px 1px 3px 1px rgba(0, 0, 0, 0.15);\n",
              "      filter: drop-shadow(0px 1px 2px rgba(0, 0, 0, 0.3));\n",
              "      fill: #FFFFFF;\n",
              "    }\n",
              "  </style>\n",
              "\n",
              "    <script>\n",
              "      const buttonEl =\n",
              "        document.querySelector('#df-2ca083df-b432-414b-a6d9-c89684474c2b button.colab-df-convert');\n",
              "      buttonEl.style.display =\n",
              "        google.colab.kernel.accessAllowed ? 'block' : 'none';\n",
              "\n",
              "      async function convertToInteractive(key) {\n",
              "        const element = document.querySelector('#df-2ca083df-b432-414b-a6d9-c89684474c2b');\n",
              "        const dataTable =\n",
              "          await google.colab.kernel.invokeFunction('convertToInteractive',\n",
              "                                                    [key], {});\n",
              "        if (!dataTable) return;\n",
              "\n",
              "        const docLinkHtml = 'Like what you see? Visit the ' +\n",
              "          '<a target=\"_blank\" href=https://colab.research.google.com/notebooks/data_table.ipynb>data table notebook</a>'\n",
              "          + ' to learn more about interactive tables.';\n",
              "        element.innerHTML = '';\n",
              "        dataTable['output_type'] = 'display_data';\n",
              "        await google.colab.output.renderOutput(dataTable, element);\n",
              "        const docLink = document.createElement('div');\n",
              "        docLink.innerHTML = docLinkHtml;\n",
              "        element.appendChild(docLink);\n",
              "      }\n",
              "    </script>\n",
              "  </div>\n",
              "\n",
              "\n",
              "<div id=\"df-0d3a8974-9a29-4044-9e2d-586e756d3fb2\">\n",
              "  <button class=\"colab-df-quickchart\" onclick=\"quickchart('df-0d3a8974-9a29-4044-9e2d-586e756d3fb2')\"\n",
              "            title=\"Suggest charts\"\n",
              "            style=\"display:none;\">\n",
              "\n",
              "<svg xmlns=\"http://www.w3.org/2000/svg\" height=\"24px\"viewBox=\"0 0 24 24\"\n",
              "     width=\"24px\">\n",
              "    <g>\n",
              "        <path d=\"M19 3H5c-1.1 0-2 .9-2 2v14c0 1.1.9 2 2 2h14c1.1 0 2-.9 2-2V5c0-1.1-.9-2-2-2zM9 17H7v-7h2v7zm4 0h-2V7h2v10zm4 0h-2v-4h2v4z\"/>\n",
              "    </g>\n",
              "</svg>\n",
              "  </button>\n",
              "\n",
              "<style>\n",
              "  .colab-df-quickchart {\n",
              "      --bg-color: #E8F0FE;\n",
              "      --fill-color: #1967D2;\n",
              "      --hover-bg-color: #E2EBFA;\n",
              "      --hover-fill-color: #174EA6;\n",
              "      --disabled-fill-color: #AAA;\n",
              "      --disabled-bg-color: #DDD;\n",
              "  }\n",
              "\n",
              "  [theme=dark] .colab-df-quickchart {\n",
              "      --bg-color: #3B4455;\n",
              "      --fill-color: #D2E3FC;\n",
              "      --hover-bg-color: #434B5C;\n",
              "      --hover-fill-color: #FFFFFF;\n",
              "      --disabled-bg-color: #3B4455;\n",
              "      --disabled-fill-color: #666;\n",
              "  }\n",
              "\n",
              "  .colab-df-quickchart {\n",
              "    background-color: var(--bg-color);\n",
              "    border: none;\n",
              "    border-radius: 50%;\n",
              "    cursor: pointer;\n",
              "    display: none;\n",
              "    fill: var(--fill-color);\n",
              "    height: 32px;\n",
              "    padding: 0;\n",
              "    width: 32px;\n",
              "  }\n",
              "\n",
              "  .colab-df-quickchart:hover {\n",
              "    background-color: var(--hover-bg-color);\n",
              "    box-shadow: 0 1px 2px rgba(60, 64, 67, 0.3), 0 1px 3px 1px rgba(60, 64, 67, 0.15);\n",
              "    fill: var(--button-hover-fill-color);\n",
              "  }\n",
              "\n",
              "  .colab-df-quickchart-complete:disabled,\n",
              "  .colab-df-quickchart-complete:disabled:hover {\n",
              "    background-color: var(--disabled-bg-color);\n",
              "    fill: var(--disabled-fill-color);\n",
              "    box-shadow: none;\n",
              "  }\n",
              "\n",
              "  .colab-df-spinner {\n",
              "    border: 2px solid var(--fill-color);\n",
              "    border-color: transparent;\n",
              "    border-bottom-color: var(--fill-color);\n",
              "    animation:\n",
              "      spin 1s steps(1) infinite;\n",
              "  }\n",
              "\n",
              "  @keyframes spin {\n",
              "    0% {\n",
              "      border-color: transparent;\n",
              "      border-bottom-color: var(--fill-color);\n",
              "      border-left-color: var(--fill-color);\n",
              "    }\n",
              "    20% {\n",
              "      border-color: transparent;\n",
              "      border-left-color: var(--fill-color);\n",
              "      border-top-color: var(--fill-color);\n",
              "    }\n",
              "    30% {\n",
              "      border-color: transparent;\n",
              "      border-left-color: var(--fill-color);\n",
              "      border-top-color: var(--fill-color);\n",
              "      border-right-color: var(--fill-color);\n",
              "    }\n",
              "    40% {\n",
              "      border-color: transparent;\n",
              "      border-right-color: var(--fill-color);\n",
              "      border-top-color: var(--fill-color);\n",
              "    }\n",
              "    60% {\n",
              "      border-color: transparent;\n",
              "      border-right-color: var(--fill-color);\n",
              "    }\n",
              "    80% {\n",
              "      border-color: transparent;\n",
              "      border-right-color: var(--fill-color);\n",
              "      border-bottom-color: var(--fill-color);\n",
              "    }\n",
              "    90% {\n",
              "      border-color: transparent;\n",
              "      border-bottom-color: var(--fill-color);\n",
              "    }\n",
              "  }\n",
              "</style>\n",
              "\n",
              "  <script>\n",
              "    async function quickchart(key) {\n",
              "      const quickchartButtonEl =\n",
              "        document.querySelector('#' + key + ' button');\n",
              "      quickchartButtonEl.disabled = true;  // To prevent multiple clicks.\n",
              "      quickchartButtonEl.classList.add('colab-df-spinner');\n",
              "      try {\n",
              "        const charts = await google.colab.kernel.invokeFunction(\n",
              "            'suggestCharts', [key], {});\n",
              "      } catch (error) {\n",
              "        console.error('Error during call to suggestCharts:', error);\n",
              "      }\n",
              "      quickchartButtonEl.classList.remove('colab-df-spinner');\n",
              "      quickchartButtonEl.classList.add('colab-df-quickchart-complete');\n",
              "    }\n",
              "    (() => {\n",
              "      let quickchartButtonEl =\n",
              "        document.querySelector('#df-0d3a8974-9a29-4044-9e2d-586e756d3fb2 button');\n",
              "      quickchartButtonEl.style.display =\n",
              "        google.colab.kernel.accessAllowed ? 'block' : 'none';\n",
              "    })();\n",
              "  </script>\n",
              "</div>\n",
              "\n",
              "    </div>\n",
              "  </div>\n"
            ],
            "application/vnd.google.colaboratory.intrinsic+json": {
              "type": "dataframe",
              "variable_name": "data",
              "summary": "{\n  \"name\": \"data\",\n  \"rows\": 10000,\n  \"fields\": [\n    {\n      \"column\": \"user_id\",\n      \"properties\": {\n        \"dtype\": \"string\",\n        \"num_unique_values\": 10000,\n        \"samples\": [\n          \"user_6253\",\n          \"user_4685\",\n          \"user_1732\"\n        ],\n        \"semantic_type\": \"\",\n        \"description\": \"\"\n      }\n    },\n    {\n      \"column\": \"latitude\",\n      \"properties\": {\n        \"dtype\": \"number\",\n        \"std\": 8.39000686192156,\n        \"min\": 8.002759520683252,\n        \"max\": 36.993200462553226,\n        \"num_unique_values\": 10000,\n        \"samples\": [\n          25.956506287337167,\n          34.55129511807304,\n          16.251553465433943\n        ],\n        \"semantic_type\": \"\",\n        \"description\": \"\"\n      }\n    },\n    {\n      \"column\": \"longitude\",\n      \"properties\": {\n        \"dtype\": \"number\",\n        \"std\": 8.40805190667974,\n        \"min\": 68.00985072372012,\n        \"max\": 96.99567479036452,\n        \"num_unique_values\": 10000,\n        \"samples\": [\n          81.88919385064733,\n          68.89315643088138,\n          85.17044410663038\n        ],\n        \"semantic_type\": \"\",\n        \"description\": \"\"\n      }\n    },\n    {\n      \"column\": \"crime_reported\",\n      \"properties\": {\n        \"dtype\": \"category\",\n        \"num_unique_values\": 2,\n        \"samples\": [\n          \"yes\",\n          \"no\"\n        ],\n        \"semantic_type\": \"\",\n        \"description\": \"\"\n      }\n    },\n    {\n      \"column\": \"time_of_day\",\n      \"properties\": {\n        \"dtype\": \"category\",\n        \"num_unique_values\": 4,\n        \"samples\": [\n          \"afternoon\",\n          \"night\"\n        ],\n        \"semantic_type\": \"\",\n        \"description\": \"\"\n      }\n    },\n    {\n      \"column\": \"area_type\",\n      \"properties\": {\n        \"dtype\": \"category\",\n        \"num_unique_values\": 3,\n        \"samples\": [\n          \"urban\",\n          \"suburban\"\n        ],\n        \"semantic_type\": \"\",\n        \"description\": \"\"\n      }\n    },\n    {\n      \"column\": \"safety_label\",\n      \"properties\": {\n        \"dtype\": \"category\",\n        \"num_unique_values\": 2,\n        \"samples\": [\n          \"unsafe\",\n          \"safe\"\n        ],\n        \"semantic_type\": \"\",\n        \"description\": \"\"\n      }\n    },\n    {\n      \"column\": \"crime_type\",\n      \"properties\": {\n        \"dtype\": \"category\",\n        \"num_unique_values\": 6,\n        \"samples\": [\n          \"none\",\n          \"vandalism\"\n        ],\n        \"semantic_type\": \"\",\n        \"description\": \"\"\n      }\n    },\n    {\n      \"column\": \"user_age\",\n      \"properties\": {\n        \"dtype\": \"number\",\n        \"std\": 14,\n        \"min\": 18,\n        \"max\": 69,\n        \"num_unique_values\": 52,\n        \"samples\": [\n          21,\n          57\n        ],\n        \"semantic_type\": \"\",\n        \"description\": \"\"\n      }\n    },\n    {\n      \"column\": \"user_gender\",\n      \"properties\": {\n        \"dtype\": \"category\",\n        \"num_unique_values\": 2,\n        \"samples\": [\n          \"female\",\n          \"male\"\n        ],\n        \"semantic_type\": \"\",\n        \"description\": \"\"\n      }\n    },\n    {\n      \"column\": \"distance_to_police\",\n      \"properties\": {\n        \"dtype\": \"number\",\n        \"std\": 4.176662051805397,\n        \"min\": 0.5030354185472456,\n        \"max\": 14.998782665106798,\n        \"num_unique_values\": 10000,\n        \"samples\": [\n          11.548978588280818,\n          9.172472017360146\n        ],\n        \"semantic_type\": \"\",\n        \"description\": \"\"\n      }\n    },\n    {\n      \"column\": \"weather_condition\",\n      \"properties\": {\n        \"dtype\": \"category\",\n        \"num_unique_values\": 4,\n        \"samples\": [\n          \"foggy\",\n          \"clear\"\n        ],\n        \"semantic_type\": \"\",\n        \"description\": \"\"\n      }\n    },\n    {\n      \"column\": \"day_of_week\",\n      \"properties\": {\n        \"dtype\": \"category\",\n        \"num_unique_values\": 7,\n        \"samples\": [\n          \"Wednesday\",\n          \"Monday\"\n        ],\n        \"semantic_type\": \"\",\n        \"description\": \"\"\n      }\n    },\n    {\n      \"column\": \"special_event_nearby\",\n      \"properties\": {\n        \"dtype\": \"category\",\n        \"num_unique_values\": 2,\n        \"samples\": [\n          \"yes\",\n          \"no\"\n        ],\n        \"semantic_type\": \"\",\n        \"description\": \"\"\n      }\n    },\n    {\n      \"column\": \"historical_crime_rate\",\n      \"properties\": {\n        \"dtype\": \"number\",\n        \"std\": 0.23068788578891156,\n        \"min\": 0.100023696234709,\n        \"max\": 0.8999486023306295,\n        \"num_unique_values\": 10000,\n        \"samples\": [\n          0.1451900603777315,\n          0.282851175524031\n        ],\n        \"semantic_type\": \"\",\n        \"description\": \"\"\n      }\n    },\n    {\n      \"column\": \"cctv_coverage\",\n      \"properties\": {\n        \"dtype\": \"category\",\n        \"num_unique_values\": 2,\n        \"samples\": [\n          \"no\",\n          \"yes\"\n        ],\n        \"semantic_type\": \"\",\n        \"description\": \"\"\n      }\n    }\n  ]\n}"
            }
          },
          "metadata": {},
          "execution_count": 3
        }
      ]
    },
    {
      "cell_type": "code",
      "source": [
        "# Label encoding for categorical features\n",
        "label_encoder = LabelEncoder()\n",
        "categorical_cols = ['crime_reported', 'time_of_day', 'area_type', 'crime_type',\n",
        "                    'user_gender', 'weather_condition', 'day_of_week',\n",
        "                    'special_event_nearby', 'cctv_coverage']\n",
        "\n",
        "for col in categorical_cols:\n",
        "    data[col] = label_encoder.fit_transform(data[col])"
      ],
      "metadata": {
        "id": "T7jCxy4shCWF"
      },
      "execution_count": 4,
      "outputs": []
    },
    {
      "cell_type": "code",
      "source": [
        "# Define features and target variable\n",
        "X = data.drop('safety_label', axis=1)  # Features (all except 'safety_label')\n",
        "y = label_encoder.fit_transform(data['safety_label'])  # Target (safe = 0, unsafe = 1)"
      ],
      "metadata": {
        "id": "yo4wlB9ChHVI"
      },
      "execution_count": 5,
      "outputs": []
    },
    {
      "cell_type": "code",
      "source": [
        "# Split the data into training and test sets (70% training, 30% test)\n",
        "X_train, X_test, y_train, y_test = train_test_split(X, y, test_size=0.3, random_state=42)"
      ],
      "metadata": {
        "id": "Wqr6teoEhK_U"
      },
      "execution_count": 6,
      "outputs": []
    },
    {
      "cell_type": "code",
      "source": [
        "# Standardize numeric features for models that benefit from scaling\n",
        "scaler = StandardScaler()\n",
        "# Exclude 'user_id' from scaling as it's now encoded but may not be suitable for scaling\n",
        "numeric_features = [col for col in X_train.columns if col != 'user_id']\n",
        "X_train_scaled = scaler.fit_transform(X_train[numeric_features])\n",
        "X_test_scaled = scaler.transform(X_test[numeric_features])"
      ],
      "metadata": {
        "id": "AtOjqPFkhV9D"
      },
      "execution_count": 7,
      "outputs": []
    },
    {
      "cell_type": "code",
      "source": [
        "from sklearn.ensemble import RandomForestClassifier\n",
        "from sklearn.metrics import classification_report, accuracy_score, confusion_matrix\n",
        "\n",
        "# Initialize the Random Forest model\n",
        "rf_model = RandomForestClassifier(n_estimators=100, random_state=42)\n",
        "\n",
        "# Train the model\n",
        "rf_model.fit(X_train_scaled, y_train)\n",
        "\n",
        "# Predict on the test data\n",
        "y_pred_rf = rf_model.predict(X_test_scaled)\n",
        "\n"
      ],
      "metadata": {
        "id": "LAtT7XRvWPqc"
      },
      "execution_count": 8,
      "outputs": []
    },
    {
      "cell_type": "code",
      "source": [
        "# Evaluate the Random Forest model\n",
        "print(\"Random Forest Accuracy:\", accuracy_score(y_test, y_pred_rf))\n"
      ],
      "metadata": {
        "colab": {
          "base_uri": "https://localhost:8080/"
        },
        "id": "zVxZqduZhpPI",
        "outputId": "da030197-81c9-4aec-e98b-8cba771790ce"
      },
      "execution_count": 9,
      "outputs": [
        {
          "output_type": "stream",
          "name": "stdout",
          "text": [
            "Random Forest Accuracy: 0.6986666666666667\n"
          ]
        }
      ]
    },
    {
      "cell_type": "code",
      "source": [
        "print(\"Classification Report:\\n\", classification_report(y_test, y_pred_rf))\n"
      ],
      "metadata": {
        "colab": {
          "base_uri": "https://localhost:8080/"
        },
        "id": "Betxcx5FhtF_",
        "outputId": "8abc10a1-2a3a-4f39-fe52-89fbf26c7796"
      },
      "execution_count": 10,
      "outputs": [
        {
          "output_type": "stream",
          "name": "stdout",
          "text": [
            "Classification Report:\n",
            "               precision    recall  f1-score   support\n",
            "\n",
            "           0       0.70      0.99      0.82      2099\n",
            "           1       0.44      0.01      0.03       901\n",
            "\n",
            "    accuracy                           0.70      3000\n",
            "   macro avg       0.57      0.50      0.42      3000\n",
            "weighted avg       0.62      0.70      0.58      3000\n",
            "\n"
          ]
        }
      ]
    },
    {
      "cell_type": "code",
      "source": [
        "print(\"Confusion Matrix:\\n\", confusion_matrix(y_test, y_pred_rf))\n"
      ],
      "metadata": {
        "colab": {
          "base_uri": "https://localhost:8080/"
        },
        "id": "Gjrk_OJJhxw_",
        "outputId": "587f6748-6c14-43b4-fcc7-3f198c237efe"
      },
      "execution_count": 11,
      "outputs": [
        {
          "output_type": "stream",
          "name": "stdout",
          "text": [
            "Confusion Matrix:\n",
            " [[2084   15]\n",
            " [ 889   12]]\n"
          ]
        }
      ]
    },
    {
      "cell_type": "code",
      "source": [
        "import xgboost as xgb\n",
        "from sklearn.metrics import classification_report, accuracy_score\n",
        "\n",
        "# Initialize the XGBoost model\n",
        "xgb_model = xgb.XGBClassifier(objective='binary:logistic', random_state=42)\n",
        "\n",
        "# Train the model\n",
        "xgb_model.fit(X_train_scaled, y_train)\n",
        "\n",
        "# Predict on the test data\n",
        "y_pred_xgb = xgb_model.predict(X_test_scaled)\n",
        "\n",
        "\n"
      ],
      "metadata": {
        "id": "bK0ayS3rWuT4"
      },
      "execution_count": 12,
      "outputs": []
    },
    {
      "cell_type": "code",
      "source": [
        "# Evaluate the XGBoost model\n",
        "print(\"XGBoost Accuracy:\", accuracy_score(y_test, y_pred_xgb))\n"
      ],
      "metadata": {
        "colab": {
          "base_uri": "https://localhost:8080/"
        },
        "id": "W4vn4SKRh3k5",
        "outputId": "12466e2e-7e7f-4913-f873-2ce4832cedce"
      },
      "execution_count": 13,
      "outputs": [
        {
          "output_type": "stream",
          "name": "stdout",
          "text": [
            "XGBoost Accuracy: 0.6456666666666667\n"
          ]
        }
      ]
    },
    {
      "cell_type": "code",
      "source": [
        "print(\"Classification Report for XGBoost:\\n\", classification_report(y_test, y_pred_xgb))"
      ],
      "metadata": {
        "colab": {
          "base_uri": "https://localhost:8080/"
        },
        "id": "y3rT8jl5h6pe",
        "outputId": "fc7514c8-e3d3-4a46-ff0b-a92958a22a94"
      },
      "execution_count": 14,
      "outputs": [
        {
          "output_type": "stream",
          "name": "stdout",
          "text": [
            "Classification Report for XGBoost:\n",
            "               precision    recall  f1-score   support\n",
            "\n",
            "           0       0.70      0.87      0.78      2099\n",
            "           1       0.28      0.11      0.16       901\n",
            "\n",
            "    accuracy                           0.65      3000\n",
            "   macro avg       0.49      0.49      0.47      3000\n",
            "weighted avg       0.57      0.65      0.59      3000\n",
            "\n"
          ]
        }
      ]
    },
    {
      "cell_type": "code",
      "source": [
        "from sklearn.model_selection import RandomizedSearchCV\n",
        "\n",
        "# Define parameter grid\n",
        "param_grid = {\n",
        "    'n_estimators': [50, 100, 200],\n",
        "    'max_depth': [10, 20, 30, None],\n",
        "    'min_samples_split': [2, 5, 10],\n",
        "    'min_samples_leaf': [1, 2, 4],\n",
        "    'bootstrap': [True, False]\n",
        "}\n",
        "\n",
        "# Initialize RandomizedSearchCV\n",
        "rf_random_search = RandomizedSearchCV(estimator=rf_model, param_distributions=param_grid,\n",
        "                                      n_iter=50, cv=3, verbose=2, random_state=42, n_jobs=-1)\n",
        "\n",
        "# Perform the search\n",
        "rf_random_search.fit(X_train_scaled, y_train)\n",
        "\n",
        "# Get the best parameters and use them to predict\n",
        "best_rf = rf_random_search.best_estimator_\n",
        "y_pred_best_rf = best_rf.predict(X_test_scaled)\n",
        "\n",
        "print(\"Best Parameters for Random Forest:\", rf_random_search.best_params_)\n",
        "print(\"Accuracy after tuning:\", accuracy_score(y_test, y_pred_best_rf))\n"
      ],
      "metadata": {
        "colab": {
          "base_uri": "https://localhost:8080/"
        },
        "id": "0XfXEVN0WyLS",
        "outputId": "f02aed7e-0cd5-4f43-fad2-fdf953b0330a"
      },
      "execution_count": 15,
      "outputs": [
        {
          "output_type": "stream",
          "name": "stdout",
          "text": [
            "Fitting 3 folds for each of 50 candidates, totalling 150 fits\n",
            "Best Parameters for Random Forest: {'n_estimators': 50, 'min_samples_split': 2, 'min_samples_leaf': 2, 'max_depth': 10, 'bootstrap': True}\n",
            "Accuracy after tuning: 0.6993333333333334\n"
          ]
        }
      ]
    },
    {
      "cell_type": "code",
      "source": [
        "from sklearn.model_selection import GridSearchCV\n",
        "\n",
        "# Parameter grid for XGBoost\n",
        "param_grid_xgb = {\n",
        "    'n_estimators': [100, 200],\n",
        "    'max_depth': [6, 10],\n",
        "    'learning_rate': [0.01, 0.1],\n",
        "    'subsample': [0.8, 1.0]\n",
        "}\n",
        "\n",
        "xgb_grid_search = GridSearchCV(estimator=xgb_model, param_grid=param_grid_xgb, cv=3, verbose=2, n_jobs=-1)\n",
        "xgb_grid_search.fit(X_train_scaled, y_train)\n",
        "\n",
        "best_xgb = xgb_grid_search.best_estimator_\n",
        "y_pred_best_xgb = best_xgb.predict(X_test_scaled)\n",
        "\n",
        "print(\"Best Parameters for XGBoost:\", xgb_grid_search.best_params_)\n",
        "print(\"Accuracy after tuning:\", accuracy_score(y_test, y_pred_best_xgb))\n"
      ],
      "metadata": {
        "colab": {
          "base_uri": "https://localhost:8080/"
        },
        "id": "pTH7yJE1DjEH",
        "outputId": "aba35b6a-f96e-4c5f-9e11-2a42fadcc644"
      },
      "execution_count": 16,
      "outputs": [
        {
          "output_type": "stream",
          "name": "stdout",
          "text": [
            "Fitting 3 folds for each of 16 candidates, totalling 48 fits\n",
            "Best Parameters for XGBoost: {'learning_rate': 0.01, 'max_depth': 6, 'n_estimators': 100, 'subsample': 0.8}\n",
            "Accuracy after tuning: 0.6996666666666667\n"
          ]
        }
      ]
    },
    {
      "cell_type": "code",
      "source": [
        "import joblib\n",
        "\n",
        "# Save the Random Forest model\n",
        "joblib.dump(best_rf, 'random_forest_model.pkl')\n",
        "\n",
        "# Save the scaler for later use in the API\n",
        "joblib.dump(scaler, 'scaler.pkl')\n",
        "\n",
        "# Load the saved model\n",
        "model = joblib.load('random_forest_model.pkl')\n",
        "\n",
        "# Load the scaler as well (if you used scaling)\n",
        "scaler = joblib.load('scaler.pkl')\n",
        "\n",
        "\n"
      ],
      "metadata": {
        "id": "dNqUMrddJzS3"
      },
      "execution_count": 17,
      "outputs": []
    },
    {
      "cell_type": "code",
      "source": [
        "# Example: New data to predict on (this data should follow the same format as the training data)\n",
        "new_data =[\n",
        "     [20.0, 77.0, 1, 2, 0, 3, 35, 1, 3.0, 1, 5, 0, 0.2, 1]  # Features example\n",
        " ]\n",
        "\n",
        "# Scale the new data (if necessary)\n",
        "scaled_data = scaler.transform(new_data)\n",
        "\n",
        "# Make the prediction\n",
        "prediction = model.predict(scaled_data)\n",
        "print('Prediction:', 'safe' if prediction[0] == 0 else 'unsafe')"
      ],
      "metadata": {
        "colab": {
          "base_uri": "https://localhost:8080/"
        },
        "id": "FU88Z9pCJ3Nb",
        "outputId": "adda69c4-db86-44ba-f12f-8133feedfbfc"
      },
      "execution_count": 18,
      "outputs": [
        {
          "output_type": "stream",
          "name": "stdout",
          "text": [
            "Prediction: safe\n"
          ]
        },
        {
          "output_type": "stream",
          "name": "stderr",
          "text": [
            "/usr/local/lib/python3.10/dist-packages/sklearn/base.py:493: UserWarning: X does not have valid feature names, but StandardScaler was fitted with feature names\n",
            "  warnings.warn(\n"
          ]
        }
      ]
    }
  ]
}